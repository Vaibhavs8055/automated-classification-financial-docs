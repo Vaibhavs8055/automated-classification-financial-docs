# Model Training and Evaluation

This notebook trains and evaluates the deep learning model for document classification.

```python
import tensorflow as tf
from tensorflow.keras.models import Sequential
from tensorflow.keras.layers import Conv2D, MaxPooling2D, Flatten, Dense
from tensorflow.keras.applications import MobileNetV2
from sklearn.model_selection import train_test_split
import pandas as pd

# Load data
data = pd.read_csv('../data/sample_data.csv')

# Preprocess data
data['content'] = data['content'].str.lower()

# Split data
train, test = train_test_split(data, test_size=0.2, random_state=42)

# Build model
base_model = MobileNetV2(input_shape=(224, 224, 3), include_top=False, weights='imagenet')
base_model.trainable = False

model = Sequential([
    base_model,
    Flatten(),
    Dense(256, activation='relu'),
    Dense(2, activation='softmax')
])

model.compile(optimizer='adam', loss='sparse_categorical_crossentropy', metrics=['accuracy'])

# Data augmentation
datagen = tf.keras.preprocessing.image.ImageDataGenerator(
    rotation_range=20,
    width_shift_range=0.2,
    height_shift_range=0.2,
    shear_range=0.2,
    zoom_range=0.2,
    horizontal_flip=True,
    fill_mode='nearest'
)

# Training
train_generator = datagen.flow_from_dataframe(train, directory='../data/images/', x_col='filename', y_col='form_type', target_size=(224, 224), batch_size=32, class_mode='binary')
val_generator = datagen.flow_from_dataframe(test, directory='../data/images/', x_col='filename', y_col='form_type', target_size=(224, 224), batch_size=32, class_mode='binary')

history = model.fit(train_generator, validation_data=val_generator, epochs=10)

# Save model
model.save('../models/document_classifier.h5')
